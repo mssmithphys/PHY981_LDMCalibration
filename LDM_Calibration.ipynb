{
 "cells": [
  {
   "cell_type": "markdown",
   "id": "4f52b15f",
   "metadata": {},
   "source": [
    "# Calibrating the LDM: Mackenzie Smith"
   ]
  },
  {
   "cell_type": "code",
   "execution_count": 1,
   "id": "2697200d",
   "metadata": {},
   "outputs": [],
   "source": [
    "import numpy as np\n",
    "import pandas as pd\n",
    "import matplotlib.pyplot as plt\n",
    "from scipy.optimize import minimize\n",
    "from matplotlib.cm import ScalarMappable"
   ]
  },
  {
   "cell_type": "markdown",
   "id": "0456b9c9",
   "metadata": {},
   "source": [
    "### 1.) Consider experimental nuclear masses\n",
    "The AME data was loaded into a Pandas dataframe."
   ]
  },
  {
   "cell_type": "code",
   "execution_count": 4,
   "id": "7d600dea",
   "metadata": {},
   "outputs": [
    {
     "name": "stdout",
     "output_type": "stream",
     "text": [
      "        N    Z      BE/A\n",
      "0       8    8  7.976207\n",
      "1       9    8  7.750729\n",
      "2      10    8  7.767098\n",
      "3      11    8  7.566495\n",
      "4      12    8  7.568571\n",
      "...   ...  ...       ...\n",
      "2461  157  108  7.296247\n",
      "2462  158  108  7.298261\n",
      "2463  157  109  7.270760\n",
      "2464  159  110  7.250155\n",
      "2465  160  110  7.253763\n",
      "\n",
      "[2466 rows x 3 columns]\n"
     ]
    }
   ],
   "source": [
    "## read in the AME Data ##\n",
    "\n",
    "column_names = ['N','Z','BE/A']\n",
    "df = pd.read_csv('AME2020_BEperNucleon', delimiter=' ', names=column_names, header=None)\n",
    "print(df)"
   ]
  },
  {
   "cell_type": "code",
   "execution_count": 3,
   "id": "2da4b106",
   "metadata": {},
   "outputs": [],
   "source": [
    "## this cell is used for trying to tag certain elements ##\n",
    "\n",
    "tin_df = df[df['Z'] == 50]\n",
    "#print(tin_df)\n",
    "df132 = df[df['Z'] + df['N'] == 132]\n",
    "##print(df132)"
   ]
  },
  {
   "cell_type": "markdown",
   "id": "108f3ec9",
   "metadata": {},
   "source": [
    "### 2.) Take LDM mass expression"
   ]
  },
  {
   "cell_type": "markdown",
   "id": "5f76e7af",
   "metadata": {},
   "source": [
    "$$\n",
    "B = a_{vol}A - a_{surf}A^{2/3} - a_{sym}\\frac{(N-Z)^2}{A} - a_{c}\\frac{Z^2}{A^{1/3}}-\\delta (A)\n",
    "$$"
   ]
  },
  {
   "cell_type": "code",
   "execution_count": 6,
   "id": "e3bbc942",
   "metadata": {},
   "outputs": [],
   "source": [
    "def LDM(N,Z,params):\n",
    "    A = N + Z\n",
    "    volterm = params[0]*A\n",
    "    surfterm = params[1]*A**(2./3.)\n",
    "    symterm = params[2]*((N-Z)**2)/A\n",
    "    coulterm = params[3]*((Z**2)/(A)**(1./3.))\n",
    "    if N%2 == 0 & Z%2 == 0:\n",
    "        pairterm = 0.\n",
    "    elif A%2 == 1:\n",
    "        pairterm = params[4]/(A**(1./2.))\n",
    "    else:\n",
    "        pairterm = 2*params[4]/(A**(1./2.))\n",
    "    Sum = volterm - surfterm - symterm - coulterm + pairterm\n",
    "    return Sum\n",
    "\n",
    "def chisquared(params):\n",
    "    num = len(df)\n",
    "    Chi2 = 0.0\n",
    "    for i in range(0,num):\n",
    "        line = df.iloc[i]\n",
    "        n = int(line['N'])\n",
    "        z = int(line['Z'])\n",
    "        a = n + z\n",
    "        be = float(line['BE/A'])*a\n",
    "        calc = LDM(n,z,params)\n",
    "        diff = be - calc\n",
    "        Chi2 = Chi2 + diff**2\n",
    "    return Chi2\n",
    "\n",
    "def LDM2(N,Z,params):\n",
    "    A = N + Z\n",
    "    volterm = params[0]*A\n",
    "    surfterm = params[1]*A**(2./3.)\n",
    "    symterm = params[2]*((N-Z)**2)/A\n",
    "    coulterm = params[3]*((Z**2)/(A)**(1./3.))\n",
    "    if N%2 == 0 & Z%2 == 0:\n",
    "        pairterm = 0.\n",
    "    elif A%2 == 1:\n",
    "        pairterm = params[4]/(A**(1./2.))\n",
    "    else:\n",
    "        pairterm = 2*params[4]/(A**(1./2.))\n",
    "    Sum = volterm - surfterm - symterm - coulterm + pairterm\n",
    "    return Sum/A\n",
    "\n",
    "def chisquared2(params):\n",
    "    num = len(df)\n",
    "    Chi2 = 0.0\n",
    "    for i in range(0,num):\n",
    "        line = df.iloc[i]\n",
    "        n = int(line['N'])\n",
    "        z = int(line['Z'])\n",
    "        a = n + z\n",
    "        be = float(line['BE/A'])\n",
    "        calc = LDM2(n,z,params)\n",
    "        diff = be - calc\n",
    "        Chi2 = Chi2 + diff**2\n",
    "    return Chi2"
   ]
  },
  {
   "cell_type": "markdown",
   "id": "8da752e2",
   "metadata": {},
   "source": [
    "### 3.) Use chi-square approach to determine LDM parameters\n",
    "\n",
    "Below, I have an initial guess of the parameters based on the lecture slides. I then pass this initial guess to the scipy.optimize.minimize function with the BFGS optimization algorithm.\n"
   ]
  },
  {
   "cell_type": "code",
   "execution_count": 7,
   "id": "95111886",
   "metadata": {},
   "outputs": [
    {
     "name": "stdout",
     "output_type": "stream",
     "text": [
      "\n",
      "Initial parameters are:\n",
      "\n",
      "[15.68, 18.56, 28.1, 0.717, 0.0]\n",
      "\n"
     ]
    }
   ],
   "source": [
    "print(\"\")\n",
    "init_params = [15.68,18.56,28.1,0.717,0.]\n",
    "print(\"Initial parameters are:\")\n",
    "print(\"\")\n",
    "print(init_params)\n",
    "print(\"\")\n",
    "\n",
    "res = minimize(chisquared,init_params,method='BFGS')#bounds=bnds,method='BFGS')"
   ]
  },
  {
   "cell_type": "markdown",
   "id": "e6873f8c",
   "metadata": {},
   "source": [
    "After running the minimize function, below are the calibrated parameters I get:"
   ]
  },
  {
   "cell_type": "code",
   "execution_count": 8,
   "id": "f8dc9ae3",
   "metadata": {},
   "outputs": [
    {
     "name": "stdout",
     "output_type": "stream",
     "text": [
      "\n",
      "volume term is 15.42548882699324\n",
      "surface term is 16.518150968015366\n",
      "symmetry term is 22.791440036923447\n",
      "coulomb term is 0.6967705391048544\n",
      "pairing term is -9.358236330848104\n"
     ]
    }
   ],
   "source": [
    "print(\"\")\n",
    "print(\"volume term is \" + str(res.x[0]))\n",
    "print(\"surface term is \" + str(res.x[1]))\n",
    "print(\"symmetry term is \" + str(res.x[2]))\n",
    "print(\"coulomb term is \" + str(res.x[3]))\n",
    "print(\"pairing term is \" + str(res.x[4]))"
   ]
  },
  {
   "cell_type": "markdown",
   "id": "e5f30949",
   "metadata": {},
   "source": [
    "Once we have our calibrated model, we can compare it with the data. Below is a graph showing the AME2020 data superimposed with the model based on the initial guess (blue) and the calibrated model (red). We can see it fits fairly well, but clearly not perfect."
   ]
  },
  {
   "cell_type": "code",
   "execution_count": 10,
   "id": "8a16d21e",
   "metadata": {},
   "outputs": [
    {
     "name": "stdout",
     "output_type": "stream",
     "text": [
      "\n"
     ]
    },
    {
     "data": {
      "text/plain": [
       "<matplotlib.legend.Legend at 0x7f2154af80a0>"
      ]
     },
     "execution_count": 10,
     "metadata": {},
     "output_type": "execute_result"
    },
    {
     "data": {
      "image/png": "[encoded data removed]",
      "text/plain": [
       "<Figure size 640x480 with 1 Axes>"
      ]
     },
     "metadata": {},
     "output_type": "display_data"
    }
   ],
   "source": [
    "df['A'] = df['Z'] + df['N']\n",
    "#print(df)\n",
    "unique_a = df['A'].unique()\n",
    "#print(unique_a)\n",
    "unique_a_array = np.array([])\n",
    "max_be = np.array([])\n",
    "for unique_val in unique_a:\n",
    "    filtered_df = df[df['A'] == unique_val]\n",
    "    max_col_row = filtered_df.loc[filtered_df['BE/A'].idxmax()]\n",
    "    unique_a_array = np.append(unique_a_array,unique_val)\n",
    "    max_be = np.append(max_be,max_col_row['BE/A'])\n",
    "\n",
    "newParams = res.x\n",
    "\n",
    "new_df = df[(df['A'].isin(unique_a_array)) & (df['BE/A'].isin(max_be))]\n",
    "new_df = new_df.sort_values(by='A')\n",
    "\n",
    "a_val = []\n",
    "be_val1 = []\n",
    "be_val2 = []\n",
    "for i in range(0,len(new_df)):\n",
    "    n = int(new_df.iloc[i]['N'])\n",
    "    z = int(new_df.iloc[i]['Z'])\n",
    "    a = n + z\n",
    "    a_val.append(new_df.iloc[i]['A'])\n",
    "    be_val1.append(LDM2(n,z,init_params))\n",
    "    be_val2.append(LDM2(n,z,newParams))\n",
    "\n",
    "print(\"\")\n",
    "plt.figure(1)\n",
    "plt.title(\"Binding Energy per Nucleon\")\n",
    "plt.ylabel(\"B/A (MeV)\")\n",
    "plt.xlabel(\"Mass Number (A)\")\n",
    "plt.scatter(unique_a_array,max_be,color='black',marker='o',s=5,label=\"AME2020 Data\")\n",
    "plt.plot(a_val,be_val1,'b',label=\"Initial Guess\")\n",
    "plt.plot(a_val,be_val2,'r',label=\"Calibrated LDM\")\n",
    "plt.legend()"
   ]
  },
  {
   "cell_type": "markdown",
   "id": "101835c6",
   "metadata": {},
   "source": [
    "To investigate the discrepancies from the model, I have plotted the residuals of each data point from the model in three manners. 1) In the form of the chart of the nuclides, where we can see an almost staircase-like pattern emerging. Note, as the model does not work as well for lower mass nuclei, if we exclude the lightest and most exotic nuclei, this pattern emerges even clearer. The other two forms are residuals vs 2) proton number and 3) neutron number. In these last two depictions of the residuals, the peaks are consistent at numbers 28, 50, and 82, whereas the neutron plot includes a peak near 126!"
   ]
  },
  {
   "cell_type": "code",
   "execution_count": 11,
   "id": "e21c5df5",
   "metadata": {},
   "outputs": [
    {
     "name": "stdout",
     "output_type": "stream",
     "text": [
      "\n"
     ]
    },
    {
     "data": {
      "text/plain": [
       "[<matplotlib.lines.Line2D at 0x7f2154470340>]"
      ]
     },
     "execution_count": 11,
     "metadata": {},
     "output_type": "execute_result"
    },
    {
     "data": {
      "image/png": "[encoded data removed]",
      "text/plain": [
       "<Figure size 640x480 with 2 Axes>"
      ]
     },
     "metadata": {},
     "output_type": "display_data"
    },
    {
     "data": {
      "image/png": "[encoded data removed]",
      "text/plain": [
       "<Figure size 640x480 with 1 Axes>"
      ]
     },
     "metadata": {},
     "output_type": "display_data"
    },
    {
     "data": {
      "image/png": "[encoded data removed]",
      "text/plain": [
       "<Figure size 640x480 with 1 Axes>"
      ]
     },
     "metadata": {},
     "output_type": "display_data"
    }
   ],
   "source": [
    "## this cell will create a new column to keep track of residuals ##\n",
    "\n",
    "print(\"\")\n",
    "resid = []\n",
    "Narr = []\n",
    "Zarr = []\n",
    "for i in range(0,len(df)):\n",
    "    line = df.iloc[i]\n",
    "    n = int(line['N'])\n",
    "    z = int(line['Z'])\n",
    "    bea = float(line['BE/A'])\n",
    "    becalc = LDM(n,z,res.x)/(n+z)\n",
    "    resid.append((bea-becalc))\n",
    "    Narr.append(n)\n",
    "    Zarr.append(z)\n",
    "df['resid'] = resid\n",
    "\n",
    "plt.figure(2)\n",
    "plt.scatter(Narr,Zarr,c=resid,marker='s',cmap='viridis',s=3)\n",
    "plt.xlabel(\"Neutrons\")\n",
    "plt.ylabel(\"Protons\")\n",
    "plt.title(\"Residuals from LDM on Chart of Nuclides\")\n",
    "plt.colorbar(label=\"Scale\")\n",
    "\n",
    "plt.figure(3)\n",
    "plt.title(\"Residuals from LDM vs Protons\")\n",
    "plt.xlabel(\"Protons\")\n",
    "plt.ylabel(\"BE/A\")\n",
    "plt.plot(Zarr,df['resid'],'b.',markersize=2)\n",
    "\n",
    "plt.figure(4)\n",
    "plt.title(\"Residuals from LDM vs Neutrons\")\n",
    "plt.xlabel(\"Neutrons\")\n",
    "plt.ylabel(\"BE/A\")\n",
    "plt.plot(Narr,df['resid'],'b.',markersize=2)"
   ]
  },
  {
   "cell_type": "markdown",
   "id": "d164cf5d",
   "metadata": {},
   "source": [
    "### 4.) Compute the Hessian and covariance matrices\n",
    "\n"
   ]
  },
  {
   "cell_type": "markdown",
   "id": "11f380d4",
   "metadata": {},
   "source": [
    "To compute the Hessian, we must compute the second partial derivatives of the $\\chi^{2}$ function with respect to each of the five input parameters. Thus, we construct a 5x5 matrix where each element is the summation across each data point. Conveniently, the BFGS method in scipy.optimize.minimize computes an inverse Hessian that we can take the inverse of to find our Hessian. Below is the printed Hessian from the optimization method."
   ]
  },
  {
   "cell_type": "code",
   "execution_count": 12,
   "id": "af5f4191",
   "metadata": {},
   "outputs": [
    {
     "name": "stdout",
     "output_type": "stream",
     "text": [
      "\n",
      "Hessian from BFGS:\n",
      "\n",
      "[[ 1.11421724e+08 -2.00079549e+07 -3.66842218e+06 -6.04064819e+08\n",
      "   4.05078268e+04]\n",
      " [-2.00079549e+07  3.64235583e+06  6.46328895e+05  1.06746824e+08\n",
      "  -7.98177037e+03]\n",
      " [-3.66842218e+06  6.46328895e+05  1.47897783e+05  1.95707742e+07\n",
      "  -1.21200502e+03]\n",
      " [-6.04064819e+08  1.06746824e+08  1.95707742e+07  3.36579275e+09\n",
      "  -1.96456712e+05]\n",
      " [ 4.05078268e+04 -7.98177037e+03 -1.21200502e+03 -1.96456712e+05\n",
      "   6.22800347e+01]]\n"
     ]
    }
   ],
   "source": [
    "print(\"\")\n",
    "print(\"Hessian from BFGS:\")\n",
    "print(\"\")\n",
    "print(np.linalg.inv(res.hess_inv))"
   ]
  },
  {
   "cell_type": "markdown",
   "id": "3f75df96",
   "metadata": {},
   "source": [
    "However, in the spirit of pursuing knowledge, I analytically computed the Hessian with the expression for our $\\chi^{2}$ and it is printed below. The Hessian's match up very well with the exception of the elements relating to our pairing term parameter. However, the discrepancy is consistent across some constant value, so at least it's consistent."
   ]
  },
  {
   "cell_type": "code",
   "execution_count": 13,
   "id": "5e336ec6",
   "metadata": {},
   "outputs": [
    {
     "name": "stdout",
     "output_type": "stream",
     "text": [
      "\n",
      "Below is my computed Hessian:\n",
      "\n",
      "[[ 1.11421718e+08 -2.00079539e+07 -3.66842200e+06 -6.04064787e+08\n",
      "   5.44642209e+04]\n",
      " [-2.00079539e+07  3.64235566e+06  6.46328862e+05  1.06746818e+08\n",
      "  -1.07288678e+04]\n",
      " [-3.66842200e+06  6.46328862e+05  1.47897781e+05  1.95707732e+07\n",
      "  -1.62914087e+03]\n",
      " [-6.04064787e+08  1.06746818e+08  1.95707732e+07  3.36579258e+09\n",
      "  -2.64317203e+05]\n",
      " [ 5.44642209e+04 -1.07288678e+04 -1.62914087e+03 -2.64317203e+05\n",
      "   7.51045652e+01]]\n",
      "\n"
     ]
    }
   ],
   "source": [
    "scipyhess = np.linalg.inv(res.hess_inv)\n",
    "Hess = np.zeros((5,5))\n",
    "for i in range(0,len(df)):\n",
    "    line = df.iloc[i]\n",
    "    n = int(line['N'])\n",
    "    z = int(line['Z'])\n",
    "    a = n + z\n",
    "    if n%2 == 0 and z%2 == 0:\n",
    "        pair=0.\n",
    "    elif a%2 == 0:\n",
    "        pair = -2./np.sqrt(a)\n",
    "    else:\n",
    "        pair = -1./np.sqrt(a)\n",
    "    Hess[0,0] = Hess[0,0] + a**2\n",
    "    Hess[0,1] = Hess[0,1] - a**(5./3)\n",
    "    Hess[1,1] = Hess[1,1] + a**(4./3)\n",
    "    Hess[2,2] = Hess[2,2] + (n-z)**(4)/a**2\n",
    "    Hess[3,3] = Hess[3,3] + z**4/a**(2/3)\n",
    "    Hess[4,4] = Hess[4,4] + pair**2\n",
    "    Hess[0,2] = Hess[0,2] - (n-z)**2\n",
    "    Hess[0,3] = Hess[0,3] - (z**2)*a**(2/3)\n",
    "    Hess[0,4] = Hess[0,4] - pair*a\n",
    "    Hess[1,2] = Hess[1,2] + (n-z)**2/a**(1/3)\n",
    "    Hess[1,3] = Hess[1,3] + z**2*a**(1/3)\n",
    "    Hess[1,4] = Hess[1,4] + pair*a**(2/3)\n",
    "    Hess[2,3] = Hess[2,3] + z**2*(n-z)**2/a**(4/3)\n",
    "    Hess[2,4] = Hess[2,4] + pair*(n-z)**2/a\n",
    "    Hess[3,4] = Hess[3,4] + pair*z**2/a**(1/3)\n",
    "Hess[1,0] = Hess[0,1]\n",
    "Hess[2,0] = Hess[0,2]\n",
    "Hess[2,1] = Hess[1,2]\n",
    "Hess[3,0] = Hess[0,3]\n",
    "Hess[3,1] = Hess[1,3]\n",
    "Hess[3,2] = Hess[2,3]\n",
    "Hess[4,0] = Hess[0,4]\n",
    "Hess[4,1] = Hess[1,4]\n",
    "Hess[4,2] = Hess[2,4]\n",
    "Hess[4,3] = Hess[3,4]\n",
    "\n",
    "Hess = 2*Hess\n",
    "print(\"\")\n",
    "print(\"Below is my computed Hessian:\")\n",
    "print(\"\")\n",
    "print(Hess)\n",
    "print(\"\")"
   ]
  },
  {
   "cell_type": "markdown",
   "id": "f76df02f",
   "metadata": {},
   "source": [
    "Next, we can find the covariance matrix by multiplying our inverse Hessian with a scale factor, s, designed to normalize the $\\chi^{2}$ function to the number of data points present minus number of parameters."
   ]
  },
  {
   "cell_type": "code",
   "execution_count": 14,
   "id": "735868b8",
   "metadata": {},
   "outputs": [
    {
     "name": "stdout",
     "output_type": "stream",
     "text": [
      "The chi-squared of our initial parameters:\n",
      "8899772.452384973\n",
      "\n",
      "\n",
      "S-factor (not the astrophysical one...):\n",
      "3616.323629575365\n",
      "\n",
      "Covariance matrix:\n",
      "\n",
      "[[1.07140287e-01 3.36495907e-01 2.38955912e-01 7.21711794e-03\n",
      "  8.55489085e-01]\n",
      " [3.36495907e-01 1.07685408e+00 7.36809979e-01 2.21506054e-02\n",
      "  3.35800317e+00]\n",
      " [2.38955912e-01 7.36809979e-01 6.48637212e-01 1.58392990e-02\n",
      "  1.59523854e+00]\n",
      " [7.21711794e-03 2.21506054e-02 1.58392990e-02 5.04280101e-04\n",
      "  4.36384329e-02]\n",
      " [8.55489085e-01 3.35800317e+00 1.59523854e+00 4.36384329e-02\n",
      "  1.00700495e+02]]\n"
     ]
    }
   ],
   "source": [
    "chiinit = chisquared(init_params)\n",
    "Nd = len(df)\n",
    "Np = len(init_params)\n",
    "s = (chiinit)/(Nd-Np)\n",
    "print(\"The chi-squared of our initial parameters:\")\n",
    "print(chiinit)\n",
    "print(\"\")\n",
    "print(\"\")\n",
    "print(\"S-factor (not the astrophysical one...):\")\n",
    "print(s)\n",
    "\n",
    "cov_mat = s*res.hess_inv\n",
    "print(\"\")\n",
    "print(\"Covariance matrix:\")\n",
    "print(\"\")\n",
    "print(cov_mat)"
   ]
  },
  {
   "cell_type": "markdown",
   "id": "c1066e94",
   "metadata": {},
   "source": [
    "### 5.) Compute the matrix of correlations between LDM parameters\n",
    "\n",
    "From here, we have the variance of each parameter with itself and with other variables. Thus, we can find the correlations between each variable to provide additional insight into the model parameters. As shown below, the correlation between each variable is quite strong with the exception of the pairing term."
   ]
  },
  {
   "cell_type": "code",
   "execution_count": 15,
   "id": "4492be0d",
   "metadata": {},
   "outputs": [
    {
     "name": "stdout",
     "output_type": "stream",
     "text": [
      "Correlation matrix:\n",
      "\n",
      "[[1.         0.99066075 0.90644289 0.98186433 0.26044874]\n",
      " [0.99066075 1.         0.88160925 0.95054188 0.32246818]\n",
      " [0.90644289 0.88160925 1.         0.87578825 0.19738262]\n",
      " [0.98186433 0.95054188 0.87578825 1.         0.19364997]\n",
      " [0.26044874 0.32246818 0.19738262 0.19364997 1.        ]]\n",
      "\n"
     ]
    }
   ],
   "source": [
    "corr_mat = np.zeros((5,5))\n",
    "\n",
    "for i in range(0,5):\n",
    "    for j in range(0,5):\n",
    "        corr_mat[i,j] = cov_mat[i,j]/(np.sqrt(cov_mat[i,i])*np.sqrt(cov_mat[j,j]))\n",
    "\n",
    "print(\"Correlation matrix:\")\n",
    "print(\"\")\n",
    "print(corr_mat)\n",
    "print(\"\")"
   ]
  },
  {
   "cell_type": "markdown",
   "id": "735176e7",
   "metadata": {},
   "source": [
    "### 6.) What is the effective number of LDM parameters?\n",
    "\n",
    "To do this, we first scale the Hessian to a conditioned Hessian, which essentially follows the same process as going from covariance to correlation. From here, we can perform a singular value decomposition on the conditioned Hessian and get the eigenvalues associated with each parameter. From here, I then normalize the eigenvalues to where the sum equals 1. We can then see that the first term, the volume parameter, dominates over the other variables. If we define our number of effective parameters to be those whose eigenvalues add to (N-1)/N, where N is the number of parameters, then we can see that there is only one effective parameter!"
   ]
  },
  {
   "cell_type": "code",
   "execution_count": 16,
   "id": "549c5ef9",
   "metadata": {},
   "outputs": [
    {
     "name": "stdout",
     "output_type": "stream",
     "text": [
      "Eigenvalues:\n",
      "\n",
      "[8.40822389e-01 1.23874227e-01 3.04573288e-02 4.80849493e-03\n",
      " 3.75601728e-05]\n"
     ]
    }
   ],
   "source": [
    "cond_hess = np.zeros((5,5))\n",
    "\n",
    "for i in range(0,5):\n",
    "    for j in range(0,5):\n",
    "        cond_hess[i,j] = Hess[i,j]/(np.sqrt(Hess[i,i])*np.sqrt(Hess[j,j]))\n",
    "\n",
    "SVD = np.linalg.svd(cond_hess)\n",
    "weight = sum(SVD[1])\n",
    "print(\"Eigenvalues:\")\n",
    "print(\"\")\n",
    "print(SVD[1]/weight)"
   ]
  },
  {
   "cell_type": "markdown",
   "id": "bc6aa522",
   "metadata": {},
   "source": [
    "### 7.) Will the result be the same if the model is calibrated to the binding energy per nucleon?\n",
    "\n",
    "Yes and no. The fit parameters will give a similar result, but the Hessian, covariance, and correlation matrices are not the same. In this case, the Hessian is divided by a factor of A$^2$, so it is considerably smaller. Additionally, this model will allow the deviation in the higher mass region to not affect the fit as much since binding energy increases with A. The biggest difference I notice here, is how the variables correlate differently and the fact that there are now two parameters with dominating eigenvalues. In this case, it is both the volume term and the surface term that are required to achieve the confidence condition defined in part 6. Thus, there are now two effective parameters for this model."
   ]
  },
  {
   "cell_type": "code",
   "execution_count": 17,
   "id": "f287a45e",
   "metadata": {},
   "outputs": [],
   "source": [
    "res2 = minimize(chisquared2,init_params,method='BFGS')#bounds=bnds,method='BFGS')"
   ]
  },
  {
   "cell_type": "code",
   "execution_count": 18,
   "id": "f5fe2dfd",
   "metadata": {},
   "outputs": [
    {
     "name": "stdout",
     "output_type": "stream",
     "text": [
      "\n",
      "The LDM parameters using BE/A:\n",
      "\n",
      "volume term is 15.017569422309727\n",
      "surface term is 15.573721040483786\n",
      "symmetry term is 21.06058222471098\n",
      "coulomb term is 0.6619903694384586\n",
      "pairing term is -7.782790383245037\n",
      "\n",
      "\n",
      "Hessian is below:\n",
      "\n",
      "[[ 4.93200000e+03 -1.02523511e+03 -1.42603138e+02 -2.25160602e+04\n",
      "   6.26103560e+00]\n",
      " [-1.02523511e+03  2.23465270e+02  2.90796167e+01  4.41717470e+03\n",
      "  -1.68758792e+00]\n",
      " [-1.42603138e+02  2.90796167e+01  6.10338786e+00  6.25058668e+02\n",
      "  -1.77063149e-01]\n",
      " [-2.25160602e+04  4.41717470e+03  6.25058668e+02  1.11716109e+05\n",
      "  -4.34468630e+07]\n",
      " [ 6.26103560e+00 -1.68758792e+00 -1.77063149e-01 -4.34468630e+07\n",
      "   3.92803007e-02]]\n",
      "\n",
      "\n",
      "Covariance matrix is below:\n",
      "\n",
      "[[1.76728059e-02 4.76183672e-02 3.54969030e-02 1.49951140e-03\n",
      "  1.42211515e-01]\n",
      " [4.76183672e-02 1.34430691e-01 8.76796016e-02 3.85881988e-03\n",
      "  5.03722788e-01]\n",
      " [3.54969030e-02 8.76796016e-02 1.54068391e-01 2.85831525e-03\n",
      "  2.45557293e-01]\n",
      " [1.49951140e-03 3.85881988e-03 2.85831525e-03 1.36450876e-04\n",
      "  8.65712157e-03]\n",
      " [1.42211515e-01 5.03722788e-01 2.45557293e-01 8.65712157e-03\n",
      "  9.61605438e+00]]\n",
      "\n",
      "\n",
      "Correlation matrix is below:\n",
      "\n",
      "[[1.         0.97695044 0.6802694  0.96562578 0.34497177]\n",
      " [0.97695044 1.         0.60924585 0.9009841  0.44304101]\n",
      " [0.6802694  0.60924585 1.         0.62339769 0.2017426 ]\n",
      " [0.96562578 0.9009841  0.62339769 1.         0.23899394]\n",
      " [0.34497177 0.44304101 0.2017426  0.23899394 1.        ]]\n",
      "\n",
      "\n",
      "Eigenvalues:\n",
      "\n",
      "[4.99999619e-01 4.99998094e-01 2.07867349e-06 1.91962631e-07\n",
      " 1.64188752e-08]\n"
     ]
    }
   ],
   "source": [
    "print(\"\")\n",
    "print(\"The LDM parameters using BE/A:\")\n",
    "print(\"\")\n",
    "print(\"volume term is \" + str(res2.x[0]))\n",
    "print(\"surface term is \" + str(res2.x[1]))\n",
    "print(\"symmetry term is \" + str(res2.x[2]))\n",
    "print(\"coulomb term is \" + str(res2.x[3]))\n",
    "print(\"pairing term is \" + str(res2.x[4]))\n",
    "\n",
    "scipyhess2 = np.linalg.inv(res2.hess_inv)\n",
    "Hess2 = np.zeros((5,5))\n",
    "for i in range(0,len(df)):\n",
    "    line = df.iloc[i]\n",
    "    n = int(line['N'])\n",
    "    z = int(line['Z'])\n",
    "    a = n + z\n",
    "    if n%2 == 0 and z%2 == 0:\n",
    "        pair=0.\n",
    "    elif a%2 == 0:\n",
    "        pair = -2./np.sqrt(a**3)\n",
    "    else:\n",
    "        pair = -1./np.sqrt(a**3)\n",
    "    Hess2[0,0] = Hess2[0,0] + 1\n",
    "    Hess2[0,1] = Hess2[0,1] - a**(-1./3)\n",
    "    Hess2[1,1] = Hess2[1,1] + a**(-2./3)\n",
    "    Hess2[2,2] = Hess2[2,2] + (n-z)**(4)/a**4\n",
    "    Hess2[3,3] = Hess2[3,3] + z**4/a**(8/3)\n",
    "    Hess2[4,4] = Hess2[4,4] + pair**2\n",
    "    Hess2[0,2] = Hess2[0,2] - (n-z)**2/a**2\n",
    "    Hess2[0,3] = Hess2[0,3] - (z**2)*a**(-4/3)\n",
    "    Hess2[0,4] = Hess2[0,4] - pair\n",
    "    Hess2[1,2] = Hess2[1,2] + (n-z)**2/a**(7/3)\n",
    "    Hess2[1,3] = Hess2[1,3] + z**2*a**(-5/3)\n",
    "    Hess2[1,4] = Hess2[1,4] + pair*a**(-1/3)\n",
    "    Hess2[2,3] = Hess2[2,3] + z**2*(n-z)**2/a**(10/3)\n",
    "    Hess2[2,4] = Hess2[2,4] + pair*(n-z)**2/a**2\n",
    "    Hess2[3,4] = Hess2[3,4] + pair*z**2/a**(-5/3)\n",
    "Hess2[1,0] = Hess2[0,1]\n",
    "Hess2[2,0] = Hess2[0,2]\n",
    "Hess2[2,1] = Hess2[1,2]\n",
    "Hess2[3,0] = Hess2[0,3]\n",
    "Hess2[3,1] = Hess2[1,3]\n",
    "Hess2[3,2] = Hess2[2,3]\n",
    "Hess2[4,0] = Hess2[0,4]\n",
    "Hess2[4,1] = Hess2[1,4]\n",
    "Hess2[4,2] = Hess2[2,4]\n",
    "Hess2[4,3] = Hess2[3,4]\n",
    "\n",
    "Hess2 = 2*Hess2\n",
    "print(\"\")\n",
    "print(\"\")\n",
    "print(\"Hessian is below:\")\n",
    "print(\"\")\n",
    "print(Hess2)\n",
    "\n",
    "chiinit2 = chisquared2(init_params)\n",
    "Nd = len(df)\n",
    "Np = len(init_params)\n",
    "s2 = (chiinit2)/(Nd-Np)\n",
    "cov_mat2 = s2*res2.hess_inv\n",
    "print(\"\")\n",
    "print(\"\")\n",
    "print(\"Covariance matrix is below:\")\n",
    "print(\"\")\n",
    "print(cov_mat2)\n",
    "corr_mat2 = np.zeros((5,5))\n",
    "\n",
    "for i in range(0,5):\n",
    "    for j in range(0,5):\n",
    "        corr_mat2[i,j] = cov_mat2[i,j]/(np.sqrt(cov_mat2[i,i])*np.sqrt(cov_mat2[j,j]))\n",
    "\n",
    "print(\"\")\n",
    "print(\"\")\n",
    "print(\"Correlation matrix is below:\")\n",
    "print(\"\")\n",
    "print(corr_mat2)\n",
    "\n",
    "cond_hess2 = np.zeros((5,5))\n",
    "\n",
    "for i in range(0,5):\n",
    "    for j in range(0,5):\n",
    "        cond_hess2[i,j] = Hess2[i,j]/(np.sqrt(Hess2[i,i])*np.sqrt(Hess2[j,j]))\n",
    "\n",
    "SVD2 = np.linalg.svd(cond_hess2)\n",
    "weight2 = sum(SVD2[1])\n",
    "print(\"\")\n",
    "print(\"\")\n",
    "print(\"Eigenvalues:\")\n",
    "print(\"\")\n",
    "print(SVD2[1]/weight2)"
   ]
  },
  {
   "cell_type": "code",
   "execution_count": null,
   "id": "122a0a4e",
   "metadata": {},
   "outputs": [],
   "source": []
  }
 ],
 "metadata": {
  "kernelspec": {
   "display_name": "Python 3 (ipykernel)",
   "language": "python",
   "name": "python3"
  },
  "language_info": {
   "codemirror_mode": {
    "name": "ipython",
    "version": 3
   },
   "file_extension": ".py",
   "mimetype": "text/x-python",
   "name": "python",
   "nbconvert_exporter": "python",
   "pygments_lexer": "ipython3",
   "version": "3.10.12"
  }
 },
 "nbformat": 4,
 "nbformat_minor": 5
}
